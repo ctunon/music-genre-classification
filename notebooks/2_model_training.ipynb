{
 "cells": [
  {
   "cell_type": "markdown",
   "metadata": {},
   "source": [
    "# Training"
   ]
  },
  {
   "cell_type": "markdown",
   "metadata": {},
   "source": [
    "### Library Imports"
   ]
  },
  {
   "cell_type": "code",
   "execution_count": 32,
   "metadata": {},
   "outputs": [],
   "source": [
    "import pandas as pd\n",
    "import matplotlib as plt\n",
    "import numpy as np\n",
    "from sklearn.preprocessing import MinMaxScaler, StandardScaler\n",
    "from sklearn.neighbors import KNeighborsClassifier\n",
    "from sklearn.linear_model import  LogisticRegression\n",
    "from sklearn.neighbors import KNeighborsClassifier\n",
    "from sklearn.ensemble import RandomForestClassifier\n",
    "from sklearn.pipeline import make_pipeline\n",
    "from sklearn.metrics import accuracy_score\n",
    "from sklearn.compose import ColumnTransformer\n",
    "from sklearn.svm import SVC"
   ]
  },
  {
   "cell_type": "markdown",
   "metadata": {},
   "source": [
    "### Notebook Imports"
   ]
  },
  {
   "cell_type": "code",
   "execution_count": 33,
   "metadata": {},
   "outputs": [],
   "source": [
    "import pickle\n",
    "\n",
    "# Load the variable\n",
    "with open('pkl/df.pkl', 'rb') as f:\n",
    "    df = pickle.load(f)"
   ]
  },
  {
   "cell_type": "markdown",
   "metadata": {},
   "source": [
    "### Model Training"
   ]
  },
  {
   "cell_type": "code",
   "execution_count": 34,
   "metadata": {},
   "outputs": [],
   "source": [
    "from sklearn.model_selection import train_test_split\n",
    "\n",
    "y = df['label'] # genre variable.\n",
    "X = df.loc[:, df.columns != 'label'] #select all columns but not the labels\n",
    "\n",
    "# Normalize so everything is on the same scale. \n",
    "cols = X.columns\n",
    "min_max_scaler = MinMaxScaler()\n",
    "np_scaled = min_max_scaler.fit_transform(X)\n",
    "\n",
    "# new data frame with the new scaled data. \n",
    "X = pd.DataFrame(np_scaled, columns = cols)\n",
    "\n",
    "#Training of the model\n",
    "X_train, X_test, y_train, y_test = train_test_split(X, y, test_size=0.3, random_state=42)\n",
    "\n"
   ]
  },
  {
   "cell_type": "markdown",
   "metadata": {},
   "source": [
    "### Model Fitting Helper"
   ]
  },
  {
   "cell_type": "code",
   "execution_count": 36,
   "metadata": {},
   "outputs": [],
   "source": [
    "def model_assess(model, title = \"Default\"):\n",
    "    model.fit(X_train, y_train)\n",
    "    preds = model.predict(X_test)\n",
    "    print('Accuracy', title, ':', round(accuracy_score(y_test, preds), 5), '\\n')"
   ]
  },
  {
   "cell_type": "markdown",
   "metadata": {},
   "source": [
    "### Model Fitting"
   ]
  },
  {
   "cell_type": "code",
   "execution_count": 37,
   "metadata": {},
   "outputs": [
    {
     "name": "stdout",
     "output_type": "stream",
     "text": [
      "Accuracy KNN : 0.7 \n",
      "\n"
     ]
    },
    {
     "name": "stdout",
     "output_type": "stream",
     "text": [
      "Accuracy Random Forest : 0.69 \n",
      "\n",
      "Accuracy Support Vector Machine : 0.68 \n",
      "\n",
      "Accuracy Logistic Regression : 0.67667 \n",
      "\n"
     ]
    }
   ],
   "source": [
    "seed = 12\n",
    "np.random.seed(12)\n",
    "df_shuffle = df.sample(frac=1, random_state=seed).reset_index(drop=True)\n",
    "\n",
    "# KNN\n",
    "knn = make_pipeline(StandardScaler(), KNeighborsClassifier(n_neighbors=4, weights='distance', metric=\"manhattan\"))\n",
    "model_assess(knn, \"KNN\")\n",
    "\n",
    "# Random Forest\n",
    "rforest = RandomForestClassifier(n_estimators=1000, max_depth=10, random_state=seed)\n",
    "model_assess(rforest, \"Random Forest\")\n",
    "\n",
    "# Support Vector Machine\n",
    "svm = make_pipeline(StandardScaler(), SVC(decision_function_shape=\"ovo\", probability=True))\n",
    "model_assess(svm, \"Support Vector Machine\")\n",
    "\n",
    "# Logistic Regression\n",
    "lg = make_pipeline(StandardScaler(), LogisticRegression(random_state=seed, solver='lbfgs', max_iter=1000, multi_class='multinomial'))\n",
    "model_assess(lg, \"Logistic Regression\")\n"
   ]
  },
  {
   "cell_type": "markdown",
   "metadata": {},
   "source": [
    "### Notebook Exports"
   ]
  },
  {
   "cell_type": "code",
   "execution_count": 38,
   "metadata": {},
   "outputs": [],
   "source": [
    "models = {'knn': knn, 'rforest': rforest, 'svm': svm, 'lg': lg}\n",
    "\n",
    "with open('pkl/models.pkl', 'wb') as f:\n",
    "    pickle.dump(models, f)\n",
    "\n",
    "\n",
    "with open('pkl/model_training.pkl', 'wb') as f:\n",
    "    pickle.dump([X_test, y_test, X_train, y_train], f)\n"
   ]
  }
 ],
 "metadata": {
  "kernelspec": {
   "display_name": "Python 3",
   "language": "python",
   "name": "python3"
  },
  "language_info": {
   "codemirror_mode": {
    "name": "ipython",
    "version": 3
   },
   "file_extension": ".py",
   "mimetype": "text/x-python",
   "name": "python",
   "nbconvert_exporter": "python",
   "pygments_lexer": "ipython3",
   "version": "3.9.19"
  }
 },
 "nbformat": 4,
 "nbformat_minor": 2
}
