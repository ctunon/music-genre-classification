{
 "cells": [
  {
   "cell_type": "markdown",
   "metadata": {},
   "source": [
    "# Training"
   ]
  },
  {
   "cell_type": "markdown",
   "metadata": {},
   "source": [
    "## Library Imports"
   ]
  },
  {
   "cell_type": "code",
   "execution_count": 11,
   "metadata": {},
   "outputs": [],
   "source": [
    "import pandas as pd\n",
    "import matplotlib as plt\n",
    "import numpy as np\n",
    "from sklearn.preprocessing import MinMaxScaler, StandardScaler\n",
    "from sklearn.neighbors import KNeighborsClassifier\n",
    "from sklearn.linear_model import  LogisticRegression\n",
    "from sklearn.neighbors import KNeighborsClassifier\n",
    "from sklearn.ensemble import RandomForestClassifier\n",
    "from sklearn.pipeline import make_pipeline\n",
    "from sklearn.metrics import accuracy_score\n",
    "from sklearn.compose import ColumnTransformer\n",
    "from sklearn.svm import SVC"
   ]
  },
  {
   "cell_type": "code",
   "execution_count": 12,
   "metadata": {},
   "outputs": [],
   "source": [
    "import pickle\n",
    "\n",
    "# Load the variable\n",
    "with open('pkl/df.pkl', 'rb') as f:\n",
    "    df = pickle.load(f)"
   ]
  },
  {
   "cell_type": "code",
   "execution_count": 21,
   "metadata": {},
   "outputs": [
    {
     "name": "stdout",
     "output_type": "stream",
     "text": [
      "      chroma_stft_mean  chroma_stft_var  rms_mean   rms_var  \\\n",
      "1             0.343065         0.086147  0.112699  0.001450   \n",
      "2             0.346815         0.092243  0.132003  0.004620   \n",
      "3             0.363639         0.086856  0.132565  0.002448   \n",
      "4             0.335579         0.088129  0.143289  0.001701   \n",
      "5             0.376670         0.089702  0.132618  0.003583   \n",
      "...                ...              ...       ...       ...   \n",
      "9985          0.349126         0.080515  0.050019  0.000097   \n",
      "9986          0.372564         0.082626  0.057897  0.000088   \n",
      "9987          0.347481         0.089019  0.052403  0.000701   \n",
      "9988          0.387527         0.084815  0.066430  0.000320   \n",
      "9989          0.369293         0.086759  0.050524  0.000067   \n",
      "\n",
      "      spectral_centroid_mean  spectral_centroid_var  spectral_bandwidth_mean  \\\n",
      "1                1816.693777           90525.690866              2010.051501   \n",
      "2                1788.539719          111407.437613              2084.565132   \n",
      "3                1655.289045          111952.284517              1960.039988   \n",
      "4                1630.656199           79667.267654              1948.503884   \n",
      "5                1994.915219          211700.619569              2152.767854   \n",
      "...                      ...                    ...                      ...   \n",
      "9985             1499.083005          164266.886443              1718.707215   \n",
      "9986             1847.965128          281054.935973              1906.468492   \n",
      "9987             1346.157659          662956.246325              1561.859087   \n",
      "9988             2084.515327          203891.039161              2018.366254   \n",
      "9989             1634.330126          411429.169769              1867.422378   \n",
      "\n",
      "      spectral_bandwidth_var  rolloff_mean   rolloff_var  ...  mfcc16_mean  \\\n",
      "1               65671.875673   3869.682242  6.722448e+05  ...     4.074709   \n",
      "2               75124.921716   3997.639160  7.907127e+05  ...     4.806280   \n",
      "3               82913.639269   3568.300218  9.216524e+05  ...    -1.359111   \n",
      "4               60204.020268   3469.992864  6.102111e+05  ...     2.092937   \n",
      "5               74263.873102   4371.985614  1.067105e+06  ...     2.127198   \n",
      "...                      ...           ...           ...  ...          ...   \n",
      "9985            85931.574523   3015.559458  8.479527e+05  ...     5.773784   \n",
      "9986            99727.037054   3746.694524  1.170890e+06  ...     2.074155   \n",
      "9987           138762.841945   2442.362154  2.602871e+06  ...    -1.005473   \n",
      "9988            22860.992562   4313.266226  4.968878e+05  ...     4.123402   \n",
      "9989           119722.211518   3462.042142  1.517016e+06  ...     1.342274   \n",
      "\n",
      "      mfcc16_var  mfcc17_mean  mfcc17_var  mfcc18_mean  mfcc18_var  \\\n",
      "1      64.748276    -6.055294   40.677654     0.159015   51.264091   \n",
      "2      67.336563    -1.768610   28.348579     2.378768   45.717648   \n",
      "3      47.739452    -3.841155   28.337118     1.218588   34.770935   \n",
      "4      30.336359     0.664582   45.880913     1.689446   51.363583   \n",
      "5      31.448069    -3.448373   34.284130    -0.416165   40.791092   \n",
      "...          ...          ...         ...          ...         ...   \n",
      "9985   42.485981    -9.094270   38.326839    -4.246976   31.049839   \n",
      "9986   32.415203   -12.375726   66.418587    -3.081278   54.414265   \n",
      "9987   78.228149    -2.524483   21.778994     4.809936   25.980829   \n",
      "9988   28.323744    -5.363541   17.209942     6.462601   21.442928   \n",
      "9989   38.801735   -11.598399   58.983097    -0.178517   55.761299   \n",
      "\n",
      "      mfcc19_mean  mfcc19_var  mfcc20_mean  mfcc20_var  \n",
      "1       -2.837699   97.030830     5.784063   59.943081  \n",
      "2       -1.938424   53.050835     2.517375   33.105122  \n",
      "3       -3.580352   50.836224     3.630866   32.023678  \n",
      "4       -3.392489   26.738789     0.536961   29.146694  \n",
      "5       -3.649625   32.457901     3.025218   28.892687  \n",
      "...           ...         ...          ...         ...  \n",
      "9985    -5.625813   48.804092     1.818823   38.966969  \n",
      "9986   -11.960546   63.452255     0.428857   18.697033  \n",
      "9987     1.775686   48.582378    -0.299545   41.586990  \n",
      "9988     2.354765   24.843613     0.675824   12.787750  \n",
      "9989    -6.903252   39.485901    -3.412534   31.727489  \n",
      "\n",
      "[9989 rows x 57 columns]\n"
     ]
    }
   ],
   "source": [
    "from sklearn.model_selection import train_test_split\n",
    "\n",
    "y = df['label'] # genre variable.\n",
    "X = df.loc[:, df.columns != 'label'] #select all columns but not the labels\n",
    "\n",
    "# Normalize so everything is on the same scale. \n",
    "cols = X.columns\n",
    "min_max_scaler = MinMaxScaler()\n",
    "np_scaled = min_max_scaler.fit_transform(X)\n",
    "\n",
    "# new data frame with the new scaled data. \n",
    "X = pd.DataFrame(np_scaled, columns = cols)\n",
    "\n",
    "#Training of the model\n",
    "X_train, X_test, y_train, y_test = train_test_split(X, y, test_size=0.3, random_state=42)\n",
    "\n"
   ]
  },
  {
   "cell_type": "code",
   "execution_count": 20,
   "metadata": {},
   "outputs": [],
   "source": [
    "preprocessor = ColumnTransformer(\n",
    "    transformers=[\n",
    "        ('numeric', StandardScaler(), X.columns)  \n",
    "    ],\n",
    "    remainder='passthrough'  \n",
    ")"
   ]
  },
  {
   "cell_type": "markdown",
   "metadata": {},
   "source": [
    "### Model Accuracy Helper"
   ]
  },
  {
   "cell_type": "code",
   "execution_count": 15,
   "metadata": {},
   "outputs": [],
   "source": [
    "def model_assess(model, title = \"Default\"):\n",
    "    model.fit(X_train, y_train)\n",
    "    preds = model.predict(X_test)\n",
    "    print('Accuracy', title, ':', round(accuracy_score(y_test, preds), 5), '\\n')"
   ]
  },
  {
   "cell_type": "code",
   "execution_count": 16,
   "metadata": {},
   "outputs": [
    {
     "name": "stdout",
     "output_type": "stream",
     "text": [
      "Accuracy KNN : 0.92526 \n",
      "\n",
      "Accuracy Random Forest : 0.81315 \n",
      "\n",
      "Accuracy Support Vector Machine : 0.85552 \n",
      "\n",
      "Accuracy Logistic Regression : 0.72639 \n",
      "\n"
     ]
    }
   ],
   "source": [
    "seed = 12\n",
    "np.random.seed(12)\n",
    "df_shuffle = df.sample(frac=1, random_state=seed).reset_index(drop=True)\n",
    "\n",
    "# KNN\n",
    "knn = make_pipeline(StandardScaler(), KNeighborsClassifier(n_neighbors=4, weights='distance', metric=\"manhattan\"))\n",
    "model_assess(knn, \"KNN\")\n",
    "\n",
    "# Random Forest\n",
    "rforest = RandomForestClassifier(n_estimators=1000, max_depth=10, random_state=seed)\n",
    "model_assess(rforest, \"Random Forest\")\n",
    "\n",
    "# Support Vector Machine\n",
    "svm = make_pipeline(StandardScaler(), SVC(decision_function_shape=\"ovo\", probability=True))\n",
    "model_assess(svm, \"Support Vector Machine\")\n",
    "\n",
    "# Logistic Regression\n",
    "lg = make_pipeline(StandardScaler(), LogisticRegression(random_state=seed, solver='lbfgs', max_iter=1000, multi_class='multinomial'))\n",
    "model_assess(lg, \"Logistic Regression\")\n"
   ]
  },
  {
   "cell_type": "code",
   "execution_count": 24,
   "metadata": {},
   "outputs": [],
   "source": [
    "models = {'knn': knn, 'rforest': rforest, 'svm': svm, 'lg': lg}\n",
    "\n",
    "with open('pkl/models.pkl', 'wb') as f:\n",
    "    pickle.dump(models, f)\n",
    "\n",
    "\n",
    "with open('pkl/model_training.pkl', 'wb') as f:\n",
    "    pickle.dump([X_test, y_test, X_train, y_train], f)\n"
   ]
  }
 ],
 "metadata": {
  "kernelspec": {
   "display_name": "Python 3",
   "language": "python",
   "name": "python3"
  },
  "language_info": {
   "codemirror_mode": {
    "name": "ipython",
    "version": 3
   },
   "file_extension": ".py",
   "mimetype": "text/x-python",
   "name": "python",
   "nbconvert_exporter": "python",
   "pygments_lexer": "ipython3",
   "version": "3.9.19"
  }
 },
 "nbformat": 4,
 "nbformat_minor": 2
}
