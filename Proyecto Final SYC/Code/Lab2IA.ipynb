{
 "cells": [
  {
   "cell_type": "markdown",
   "id": "36b22323-64ae-4a4d-b4cf-33fefa277a10",
   "metadata": {},
   "source": [
    "## II. Scikit Learn, KNN"
   ]
  },
  {
   "cell_type": "code",
   "execution_count": 29,
   "id": "f14cb666-50aa-418c-880f-d871c65b7a5b",
   "metadata": {},
   "outputs": [
    {
     "name": "stdout",
     "output_type": "stream",
     "text": [
      "Predicción: ['versicolor']\n",
      "Opciones: ['setosa' 'versicolor' 'virginica']\n",
      "Probabilidades: [[0.  0.8 0.2]]\n"
     ]
    }
   ],
   "source": [
    "#Scikit Learn KNN\n",
    "\n",
    "#Carlos Tuñón 8-1066-1018\n",
    "\n",
    "from sklearn import neighbors, datasets\n",
    "from sklearn.datasets import load_iris\n",
    "\n",
    "data = load_iris()\n",
    "\n",
    "X, y = data.data, data.target\n",
    "\n",
    "knn = neighbors.KNeighborsClassifier(n_neighbors=5, weights='uniform')\n",
    "\n",
    "\n",
    "knn.fit(X,y)\n",
    "\n",
    "X_pred = [2,2,4,2]\n",
    "\n",
    "output = knn.predict([X_pred])\n",
    "\n",
    "print('Predicción:', data.target_names[output])\n",
    "print('Opciones:', data.target_names)\n",
    "print('Probabilidades:', knn.predict_proba([X_pred]))\n"
   ]
  },
  {
   "cell_type": "markdown",
   "id": "6a8b0e45-6e65-47cf-9447-3c2b55fa629a",
   "metadata": {},
   "source": [
    "## III. Arboles - Clasificador Random Forest"
   ]
  },
  {
   "cell_type": "code",
   "execution_count": 2,
   "id": "1c8b96c2-5700-4223-bc15-c52f63c6bfc7",
   "metadata": {},
   "outputs": [
    {
     "output_type": "stream",
     "name": "stdout",
     "text": [
      "[[5.1 3.5 1.4 0.2]\n [4.9 3.  1.4 0.2]\n [4.7 3.2 1.3 0.2]\n [4.6 3.1 1.5 0.2]\n [5.  3.6 1.4 0.2]\n [5.4 3.9 1.7 0.4]\n [4.6 3.4 1.4 0.3]\n [5.  3.4 1.5 0.2]\n [4.4 2.9 1.4 0.2]\n [4.9 3.1 1.5 0.1]\n [5.4 3.7 1.5 0.2]\n [4.8 3.4 1.6 0.2]\n [4.8 3.  1.4 0.1]\n [4.3 3.  1.1 0.1]\n [5.8 4.  1.2 0.2]\n [5.7 4.4 1.5 0.4]\n [5.4 3.9 1.3 0.4]\n [5.1 3.5 1.4 0.3]\n [5.7 3.8 1.7 0.3]\n [5.1 3.8 1.5 0.3]\n [5.4 3.4 1.7 0.2]\n [5.1 3.7 1.5 0.4]\n [4.6 3.6 1.  0.2]\n [5.1 3.3 1.7 0.5]\n [4.8 3.4 1.9 0.2]\n [5.  3.  1.6 0.2]\n [5.  3.4 1.6 0.4]\n [5.2 3.5 1.5 0.2]\n [5.2 3.4 1.4 0.2]\n [4.7 3.2 1.6 0.2]\n [4.8 3.1 1.6 0.2]\n [5.4 3.4 1.5 0.4]\n [5.2 4.1 1.5 0.1]\n [5.5 4.2 1.4 0.2]\n [4.9 3.1 1.5 0.2]\n [5.  3.2 1.2 0.2]\n [5.5 3.5 1.3 0.2]\n [4.9 3.6 1.4 0.1]\n [4.4 3.  1.3 0.2]\n [5.1 3.4 1.5 0.2]\n [5.  3.5 1.3 0.3]\n [4.5 2.3 1.3 0.3]\n [4.4 3.2 1.3 0.2]\n [5.  3.5 1.6 0.6]\n [5.1 3.8 1.9 0.4]\n [4.8 3.  1.4 0.3]\n [5.1 3.8 1.6 0.2]\n [4.6 3.2 1.4 0.2]\n [5.3 3.7 1.5 0.2]\n [5.  3.3 1.4 0.2]\n [7.  3.2 4.7 1.4]\n [6.4 3.2 4.5 1.5]\n [6.9 3.1 4.9 1.5]\n [5.5 2.3 4.  1.3]\n [6.5 2.8 4.6 1.5]\n [5.7 2.8 4.5 1.3]\n [6.3 3.3 4.7 1.6]\n [4.9 2.4 3.3 1. ]\n [6.6 2.9 4.6 1.3]\n [5.2 2.7 3.9 1.4]\n [5.  2.  3.5 1. ]\n [5.9 3.  4.2 1.5]\n [6.  2.2 4.  1. ]\n [6.1 2.9 4.7 1.4]\n [5.6 2.9 3.6 1.3]\n [6.7 3.1 4.4 1.4]\n [5.6 3.  4.5 1.5]\n [5.8 2.7 4.1 1. ]\n [6.2 2.2 4.5 1.5]\n [5.6 2.5 3.9 1.1]\n [5.9 3.2 4.8 1.8]\n [6.1 2.8 4.  1.3]\n [6.3 2.5 4.9 1.5]\n [6.1 2.8 4.7 1.2]\n [6.4 2.9 4.3 1.3]\n [6.6 3.  4.4 1.4]\n [6.8 2.8 4.8 1.4]\n [6.7 3.  5.  1.7]\n [6.  2.9 4.5 1.5]\n [5.7 2.6 3.5 1. ]\n [5.5 2.4 3.8 1.1]\n [5.5 2.4 3.7 1. ]\n [5.8 2.7 3.9 1.2]\n [6.  2.7 5.1 1.6]\n [5.4 3.  4.5 1.5]\n [6.  3.4 4.5 1.6]\n [6.7 3.1 4.7 1.5]\n [6.3 2.3 4.4 1.3]\n [5.6 3.  4.1 1.3]\n [5.5 2.5 4.  1.3]\n [5.5 2.6 4.4 1.2]\n [6.1 3.  4.6 1.4]\n [5.8 2.6 4.  1.2]\n [5.  2.3 3.3 1. ]\n [5.6 2.7 4.2 1.3]\n [5.7 3.  4.2 1.2]\n [5.7 2.9 4.2 1.3]\n [6.2 2.9 4.3 1.3]\n [5.1 2.5 3.  1.1]\n [5.7 2.8 4.1 1.3]\n [6.3 3.3 6.  2.5]\n [5.8 2.7 5.1 1.9]\n [7.1 3.  5.9 2.1]\n [6.3 2.9 5.6 1.8]\n [6.5 3.  5.8 2.2]\n [7.6 3.  6.6 2.1]\n [4.9 2.5 4.5 1.7]\n [7.3 2.9 6.3 1.8]\n [6.7 2.5 5.8 1.8]\n [7.2 3.6 6.1 2.5]\n [6.5 3.2 5.1 2. ]\n [6.4 2.7 5.3 1.9]\n [6.8 3.  5.5 2.1]\n [5.7 2.5 5.  2. ]\n [5.8 2.8 5.1 2.4]\n [6.4 3.2 5.3 2.3]\n [6.5 3.  5.5 1.8]\n [7.7 3.8 6.7 2.2]\n [7.7 2.6 6.9 2.3]\n [6.  2.2 5.  1.5]\n [6.9 3.2 5.7 2.3]\n [5.6 2.8 4.9 2. ]\n [7.7 2.8 6.7 2. ]\n [6.3 2.7 4.9 1.8]\n [6.7 3.3 5.7 2.1]\n [7.2 3.2 6.  1.8]\n [6.2 2.8 4.8 1.8]\n [6.1 3.  4.9 1.8]\n [6.4 2.8 5.6 2.1]\n [7.2 3.  5.8 1.6]\n [7.4 2.8 6.1 1.9]\n [7.9 3.8 6.4 2. ]\n [6.4 2.8 5.6 2.2]\n [6.3 2.8 5.1 1.5]\n [6.1 2.6 5.6 1.4]\n [7.7 3.  6.1 2.3]\n [6.3 3.4 5.6 2.4]\n [6.4 3.1 5.5 1.8]\n [6.  3.  4.8 1.8]\n [6.9 3.1 5.4 2.1]\n [6.7 3.1 5.6 2.4]\n [6.9 3.1 5.1 2.3]\n [5.8 2.7 5.1 1.9]\n [6.8 3.2 5.9 2.3]\n [6.7 3.3 5.7 2.5]\n [6.7 3.  5.2 2.3]\n [6.3 2.5 5.  1.9]\n [6.5 3.  5.2 2. ]\n [6.2 3.4 5.4 2.3]\n [5.9 3.  5.1 1.8]]\n[0 0 0 0 0 0 0 0 0 0 0 0 0 0 0 0 0 0 0 0 0 0 0 0 0 0 0 0 0 0 0 0 0 0 0 0 0\n 0 0 0 0 0 0 0 0 0 0 0 0 0 1 1 1 1 1 1 1 1 1 1 1 1 1 1 1 1 1 1 1 1 1 1 1 1\n 1 1 1 1 1 1 1 1 1 1 1 1 1 1 1 1 1 1 1 1 1 1 1 1 1 1 2 2 2 2 2 2 2 2 2 2 2\n 2 2 2 2 2 2 2 2 2 2 2 2 2 2 2 2 2 2 2 2 2 2 2 2 2 2 2 2 2 2 2 2 2 2 2 2 2\n 2 2]\nPredicción: ['virginica']\nOpciones: ['setosa' 'versicolor' 'virginica']\nProbabilidades: [[0.   0.31 0.69]]\n"
     ]
    }
   ],
   "source": [
    "#Random Forest Classifier \n",
    "\n",
    "#Carlos Tuñón 8-1066-1018\n",
    "\n",
    "from sklearn.ensemble import RandomForestClassifier\n",
    "from sklearn import datasets\n",
    "from sklearn.datasets import load_iris\n",
    "data = load_iris()\n",
    "\n",
    "X, y = data.data, data.target\n",
    "\n",
    "clf = RandomForestClassifier(n_jobs=2, random_state=0)\n",
    "\n",
    "clf.fit(X,y)\n",
    "\n",
    "X_pred = [2,2,4,2]\n",
    "\n",
    "output = clf.predict([X_pred])\n",
    "\n",
    "print('Predicción:', data.target_names[output])\n",
    "print('Opciones:', data.target_names)\n",
    "print('Probabilidades:', clf.predict_proba([X_pred]))"
   ]
  },
  {
   "cell_type": "code",
   "execution_count": null,
   "id": "2f8f2be3-8b6c-4e40-a0d9-6e187c0844fd",
   "metadata": {},
   "outputs": [],
   "source": [
    "#Random Forest Classifier \n",
    "\n",
    "#Carlos Tuñón 8-1066-1018\n",
    "\n",
    "from sklearn.ensemble import RandomForestClassifier\n",
    "from sklearn import datasets\n",
    "from sklearn.datasets import load_digits\n",
    "data = load_digits()\n",
    "\n",
    "x, y = data.data, data.target\n",
    "\n",
    "clf = RandomForestClassifier(n_jobs=2, random_state=0)\n",
    "\n",
    "clf.fit(X,y)\n",
    "\n",
    "X_pred = [2,2,4,2]\n",
    "\n",
    "output = clf.predict([X_pred])\n",
    "\n",
    "print('Predicción:', data.target_names[output])\n",
    "print('Opciones:', data.target_names)\n",
    "print('Probabilidades:', clf.predict_proba([X_pred]))"
   ]
  },
  {
   "cell_type": "markdown",
   "id": "8be0cf49-f6a3-4d26-94b5-0baf5f6907ac",
   "metadata": {},
   "source": [
    "## IV. Support Vector Machine - SVM"
   ]
  },
  {
   "cell_type": "code",
   "execution_count": 4,
   "id": "128b09a0-cbef-4785-aa65-54b3b024080f",
   "metadata": {},
   "outputs": [
    {
     "output_type": "stream",
     "name": "stdout",
     "text": [
      "[6.1 2.8 4.  1.3]\nPredicción: ['versicolor']\nOpciones: ['setosa' 'versicolor' 'virginica']\nProbabilidades: [[0.00878595 0.98754605 0.003668  ]]\n"
     ]
    }
   ],
   "source": [
    "#Support Vector Machine - SVM\n",
    "\n",
    "#Carlos Tuñón 8-1066-1018\n",
    "\n",
    "from sklearn.svm import SVC\n",
    "from sklearn import datasets\n",
    "from sklearn.datasets import load_iris\n",
    "data = load_iris()\n",
    "\n",
    "X, y = data.data, data.target\n",
    "\n",
    "svm = SVC(kernel='rbf', probability=True, gamma='scale')\n",
    "\n",
    "svm.fit(X,y)\n",
    "\n",
    "X_pred = X[71]\n",
    "print(X_pred)\n",
    "\n",
    "output = svm.predict([X_pred])\n",
    "\n",
    "print('Predicción:', data.target_names[output])\n",
    "print('Opciones:', data.target_names)\n",
    "print('Probabilidades:', svm.predict_proba([X_pred]))"
   ]
  },
  {
   "cell_type": "markdown",
   "id": "17065282-d7e8-4754-9974-00b7c0f08f11",
   "metadata": {},
   "source": [
    "## V. KMeans\n"
   ]
  },
  {
   "cell_type": "code",
   "execution_count": 2,
   "id": "63066d58-1311-4d6f-a1cc-6ec8dfea2d76",
   "metadata": {},
   "outputs": [
    {
     "output_type": "stream",
     "name": "stdout",
     "text": [
      "Tamaño del dataset  (150, 4)\nCategorias  ['setosa' 'versicolor' 'virginica']\nAtributos  ['sepal length (cm)', 'sepal width (cm)', 'petal length (cm)', 'petal width (cm)']\nClusters asignados a cada Instancia\n[1 1 1 1 1 1 1 1 1 1 1 1 1 1 1 1 1 1 1 1 1 1 1 1 1 1 1 1 1 1 1 1 1 1 1 1 1\n 1 1 1 1 1 1 1 1 1 1 1 1 1]\n[3 3 3 2 3 2 3 2 3 2 2 2 2 3 2 3 2 2 3 2 3 2 3 3 3 3 3 3 3 2 2 2 2 3 2 3 3\n 3 2 2 2 3 2 2 2 2 2 3 2 2]\n[0 3 0 0 0 0 2 0 0 0 3 3 0 3 3 0 0 0 0 3 0 3 0 3 0 0 3 3 0 0 0 0 0 3 3 0 0\n 0 3 0 0 0 3 0 0 0 3 3 0 3]\n"
     ]
    }
   ],
   "source": [
    "#Kmeans\n",
    "\n",
    "from sklearn.datasets import load_iris\n",
    "from sklearn.cluster import KMeans\n",
    "\n",
    "iris = load_iris()\n",
    "\n",
    "print('Tamaño del dataset ', iris.data.shape)\n",
    "print('Categorias ', iris.target_names)\n",
    "print('Atributos ', iris.feature_names)\n",
    "\n",
    "#Creación del estimador KMeans\n",
    "kmeans = KMeans(n_clusters=4, random_state=11)\n",
    "kmeans.fit(iris.data)\n",
    "print('Clusters asignados a cada Instancia')\n",
    "print(kmeans.labels_[0:50])\n",
    "print(kmeans.labels_[50:100])\n",
    "print(kmeans.labels_[100:150])\n",
    "\n",
    "\n"
   ]
  },
  {
   "cell_type": "code",
   "execution_count": 1,
   "id": "4e67866c-3573-4506-9bc5-b6a16ad8e58d",
   "metadata": {},
   "outputs": [
    {
     "output_type": "stream",
     "name": "stdout",
     "text": [
      "Tamaño del dataset  (150, 4)\nCategorias  ['setosa' 'versicolor' 'virginica']\nAtributos  ['sepal length (cm)', 'sepal width (cm)', 'petal length (cm)', 'petal width (cm)']\nClusters asignados a cada Instancia\n[1 1 1 1 1 1 1 1 1 1 1 1 1 1 1 1 1 1 1 1 1 1 1 1 1 1 1 1 1 1 1 1 1 1 1 1 1\n 1 1 1 1 1 1 1 1 1 1 1 1 1 0 0 0 0 0 0 0 1 0 0 0 0 0 0 0 0 0 0 0 0 0 0 0 0\n 0]\n[0 0 0 0 0 0 0 0 0 0 0 0 0 0 0 0 0 0 1 0 0 0 0 1 0 0 0 0 0 0 0 0 0 0 0 0 0\n 0 0 0 0 0 0 0 0 0 0 0 0 0 0 0 0 0 0 0 0 0 0 0 0 0 0 0 0 0 0 0 0 0 0 0 0 0\n 0]\n"
     ]
    }
   ],
   "source": [
    "#Kmeans\n",
    "\n",
    "from sklearn.datasets import load_iris\n",
    "from sklearn.cluster import KMeans\n",
    "\n",
    "digits = load_iris()\n",
    "\n",
    "print('Tamaño del dataset ', digits.data.shape)\n",
    "print('Categorias ', digits.target_names)\n",
    "print('Atributos ', digits.feature_names)\n",
    "\n",
    "#Creación del estimador KMeans\n",
    "kmeans = KMeans(n_clusters=2, random_state=11)\n",
    "kmeans.fit(digits.data)\n",
    "print('Clusters asignados a cada Instancia')\n",
    "print(kmeans.labels_[0:75])\n",
    "print(kmeans.labels_[75:150])\n",
    "\n",
    "\n"
   ]
  },
  {
   "cell_type": "markdown",
   "id": "97e77a47-5e20-449e-84dc-b7833f4f3801",
   "metadata": {},
   "source": [
    "## VI. División del Dataset y Guardar el Modelo entrenado "
   ]
  },
  {
   "cell_type": "code",
   "execution_count": null,
   "metadata": {},
   "outputs": [],
   "source": [
    "from sklearn.svm import SVC\n",
    "from sklearn import datasets\n",
    "from sklearn.datasets import load_iris\n",
    "from sklearn.model_selection import train_test_split\n",
    "import pickle\n",
    "\n",
    "data = load_iris()\n",
    "\n",
    "X_train, X_test, y_train, y_test = train_test_split(data.data, data.target, random_state=11)\n",
    "\n",
    "svm = SVC(kernel='rbf', probability=True, gamma='scale')\n",
    "\n",
    "svm.fit(X_train, y_train)\n",
    "\n",
    "predicted = svm.predict(X=X_test)\n",
    "print(len(predicted))\n",
    "expected = y_test\n",
    "print(len(expected))\n",
    "\n",
    "wrong = [(p,e) for (p, e) in zip(predicted, expected) if p != e]\n",
    "print(wrong)\n",
    "\n",
    "print('Predicción con el clasificador original')\n",
    "print(f'{svm.score(X_test, y_test):.2%}')\n",
    "\n",
    "with open('SVMClassificadorIris.pkl','wb') as fid:\n",
    "    pickle.dump(svm, fid)\n",
    "\n",
    "with open('SVMClassificadorIris.pkl','rb') as fid:\n",
    "    svm_loaded = pickle.load(fid)\n",
    "\n",
    "print('Predicción con el clasificador almacenado')\n",
    "print(f'{svm_loaded.score(X_test, y_test):.2%}')"
   ]
  },
  {
   "source": [
    "## VII. Utilizando otros datasets\n"
   ],
   "cell_type": "markdown",
   "metadata": {}
  },
  {
   "cell_type": "code",
   "execution_count": null,
   "id": "fa08ad8f-62a9-4a95-9738-916d4787a8d7",
   "metadata": {},
   "outputs": [],
   "source": [
    "from sklearn.svm import SVC\n",
    "from sklearn import datasets\n",
    "from sklearn.datasets import load_digits\n",
    "from sklearn.model_selection import train_test_split\n",
    "import pickle\n",
    "\n",
    "data = load_digits()\n",
    "\n",
    "X_train, X_test, y_train, y_test = train_test_split(data.data, data.target, random_state=11)\n",
    "\n",
    "svm = SVC(kernel='rbf', probability=True, gamma='scale')\n",
    "\n",
    "svm.fit(X_train, y_train)\n",
    "\n",
    "predicted = svm.predict(X=X_test)\n",
    "print(len(predicted))\n",
    "expected = y_test\n",
    "print(len(expected))\n",
    "\n",
    "wrong = [(p,e) for (p, e) in zip(predicted, expected) if p != e]\n",
    "print(wrong)\n",
    "\n",
    "print('Predicción con el clasificador original')\n",
    "print(f'{svm.score(X_test, y_test):.2%}')\n",
    "\n",
    "with open('SVMClassificadorIris.pkl','wb') as fid:\n",
    "    pickle.dump(svm, fid)\n",
    "\n",
    "with open('SVMClassificadorIris.pkl','rb') as fid:\n",
    "    svm_loaded = pickle.load(fid)\n",
    "\n",
    "print('Predicción con el clasificador almacenado')\n",
    "print(f'{svm_loaded.score(X_test, y_test):.2%}')\n"
   ]
  },
  {
   "cell_type": "code",
   "execution_count": null,
   "metadata": {},
   "outputs": [],
   "source": []
  }
 ],
 "metadata": {
  "kernelspec": {
   "name": "python3",
   "display_name": "Python 3.9.4 64-bit"
  },
  "language_info": {
   "codemirror_mode": {
    "name": "ipython",
    "version": 3
   },
   "file_extension": ".py",
   "mimetype": "text/x-python",
   "name": "python",
   "nbconvert_exporter": "python",
   "pygments_lexer": "ipython3",
   "version": "3.9.4"
  },
  "interpreter": {
   "hash": "e7d3e9b9f2c4159a0e28c56b7e1429d41a02bdc8137e3bb6d77aeeffb51f623b"
  }
 },
 "nbformat": 4,
 "nbformat_minor": 5
}